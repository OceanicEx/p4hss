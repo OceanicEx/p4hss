{
  "cells": [
    {
      "metadata": {},
      "cell_type": "markdown",
      "source": "# Playing with Strings\n\nIn today's workshop, we will be experimenting with strings. \n\nMany of the operations we will undertake today can be done more efficiently with freely available libraries. However, it is important to understand the underlying processes of these libraries (what they are doing under the hood) so that you can process your text exactly the way you intend to.\n\n## Recap Last Week's Workshop\n\nFirst, let's reminder ourselves how to assign the four most common variable types, strings, integers, bools and floats.\n\nWe will be using these variables in today's examples, so review the box below and then run it to assign these four variables."
    },
    {
      "metadata": {
        "trusted": false
      },
      "cell_type": "code",
      "source": "my_string = \"The time has come for all good men to come to the aid of their country\"\n\nmy_name = \"Melodee Beals\"\nmy_bool = False\nmy_int = 7\nmy_float = 3.14\n\nmy_list = [my_name, my_bool, my_int, my_float]\n\nprint (my_list)",
      "execution_count": 1,
      "outputs": [
        {
          "name": "stdout",
          "output_type": "stream",
          "text": "['Melodee Beals', False, 7, 3.14]\n"
        }
      ]
    },
    {
      "metadata": {},
      "cell_type": "markdown",
      "source": "## Discovering the Length of Strings\n\nIn order to retrieve specific information from our variables, such as a particular word or phrase, it is useful to know exactly how long our strings are.  To calculate this, use the `len()` function.  Len, short for length, will return (give you) the number of characters in your string, or the number of items in your list.  Simply place the variable name within the brackets ().\n\nIn the box below, calculate the length of `my_name`.\n\n*Note: you do not need to print, simple use the* `len()` *function on its own*"
    },
    {
      "metadata": {
        "trusted": true
      },
      "cell_type": "code",
      "source": "",
      "execution_count": null,
      "outputs": []
    },
    {
      "metadata": {},
      "cell_type": "markdown",
      "source": "## Extracting Parts of Strings (and Lists)\n\nNow, think of your data as a machine-readable form, one of those forms that has a little box for each letter or number in your response. Like this:\n\n|M|E|L|O|D|E|E| |B|E|A|L|S|\n\nSuppose you just want the first and ninth letter of this string, my initials. To do this, you can tell the console to only select those specific letters, in this case 0 and 8&mdash;in Python, and most programming languages, you start counting with 0 rather than 1.\n \nYou can create a new variable with only these letters using the variable name, followed by square brackets and the number.\n \n`initials = my_name[0]+my_name[8]`\n \nGive it a try with your own name! In the box below, reassign `my_name` (just as you would with a new variable) and then print your initials."
    },
    {
      "metadata": {
        "trusted": true
      },
      "cell_type": "code",
      "source": "",
      "execution_count": null,
      "outputs": []
    },
    {
      "metadata": {},
      "cell_type": "markdown",
      "source": "If you want several consecutive characters, you can use \n\n`variableName[a:b]`\n\nwhere `a` is the first character and `b` is the number of the character BEYOND the last character you want&mdash;think of it as the first character of the part that is snipped off!\n\nYou can also use negative numbers in order to count from the end of the string, with -1 being the final character. \n\nYou can also leave the first character blank to indicate \"from the begining\" and the second black to indicate \"until the end\". \n\nSo, the last 5 letters would be `my_name[-5:]`\n\nTry out some variations below! For example:\n\n+ What is the first character?  \n+ What are the first three characters?\n+ What are the 5 through the 9 characters?\n+ What are the last 4 characters?"
    },
    {
      "metadata": {
        "trusted": true
      },
      "cell_type": "code",
      "source": "",
      "execution_count": null,
      "outputs": []
    },
    {
      "metadata": {},
      "cell_type": "markdown",
      "source": "## Using Lists to Tokenise Longer Strings\n\nNow we are going to start working with longer strings. In this case, a single sentence `my_string`.\n\nUsing what you have learned above, experiment with pulling out extracts of the sentence. Using `my_string` trying printing the third word."
    },
    {
      "metadata": {
        "trusted": true
      },
      "cell_type": "code",
      "source": "",
      "execution_count": null,
      "outputs": []
    },
    {
      "metadata": {},
      "cell_type": "markdown",
      "source": "Working with sentences and longer texts on a character basis is sometimes useful, but other times you want to work on a word-by-word basis instead. To do this, we need to tokenize or cut up our string into separate pieces.  \n\nWe can do this by transforming our string into a list, with each word (minus the whitespace) serving as an item in that list.\n\nCreate a new variable and assign it by using the \"split method\" or function on your string. The format is\n\n`my_words = my_string.split()`\n\nIt is very important that you remember to include the brackets () at the end. This space is used if you wish to split your text by something other than whitespace.\n\nWhen you are done, use the `len()` function in order to count the number of words in your list."
    },
    {
      "metadata": {
        "trusted": true
      },
      "cell_type": "code",
      "source": "",
      "execution_count": null,
      "outputs": []
    },
    {
      "metadata": {},
      "cell_type": "markdown",
      "source": "Use the print function in order to display your list"
    },
    {
      "metadata": {
        "trusted": true
      },
      "cell_type": "code",
      "source": "",
      "execution_count": null,
      "outputs": []
    },
    {
      "metadata": {},
      "cell_type": "markdown",
      "source": "Now that our sentence has been tokenized, it is much easier to extract a sublist of words. Create a new list and assign it to a sub-section of the sentence, a few words somewhere in the middle, and then print it."
    },
    {
      "metadata": {
        "trusted": true
      },
      "cell_type": "code",
      "source": "",
      "execution_count": null,
      "outputs": []
    },
    {
      "metadata": {},
      "cell_type": "markdown",
      "source": "Well done. You've split the sentence into individual words and selected a small sample. If you want to reverse the process, turning the list back into a single string, you'll need to use the `.join()` function. Assign a new variable to the following format:\n\n`'x'.join(y)`\n\nwhere `x` is the character you wish to use as a joiner (usually a space or underscore) and `y` is the name of your sublist. When you are done, print your new variable."
    },
    {
      "metadata": {
        "trusted": true
      },
      "cell_type": "code",
      "source": "",
      "execution_count": null,
      "outputs": []
    },
    {
      "metadata": {},
      "cell_type": "markdown",
      "source": "##  Loops\n\nUsing `''.join()` is a good way of combining strings (whether in lists or not), but you can also use something called a *for loop*.\n\nA loop is a way of doing the same process over and over again.  Below we'll explore two types of loops, a *for loop* and a *while loop*.\n\n### For Loop\n\nA for loop asks the compiler to do a task *for* each item in a group. In this case, for each word in our word list.  The format of the for loop is as follows\n\n    for x in y:\n        do something\n\nWhere x is a placeholder (it creates a new, temporary variable) and y is the container. For example: `for word in word_list` or `for character in my_string`\n\nOn the second line you'll need to indent (tab) and then give an instruction, such as `print()`, `len()` or `''.join`.\n\nIn the box below, write a for loop to print each word in your (full) word list.\n"
    },
    {
      "metadata": {
        "trusted": true
      },
      "cell_type": "code",
      "source": "",
      "execution_count": null,
      "outputs": []
    },
    {
      "metadata": {},
      "cell_type": "markdown",
      "source": "Notice how each word is its own line? This is because you are essentially writing a print command on its own line, over and over again.  We can override this by using the parameter `end=''`, which replaces the new line character with a different one.  The format is as follows\n\n`print(x, end='y')`\n\nwere x is the variable name and y is the character replacing the line break.  Try it below:"
    },
    {
      "metadata": {
        "trusted": true
      },
      "cell_type": "code",
      "source": "",
      "execution_count": null,
      "outputs": []
    },
    {
      "metadata": {},
      "cell_type": "markdown",
      "source": "### If Statements\n\nYou can use for loops to examine and 'test' every word in your list.  To do this, you use the format `if x: y` where x is a test statement and y is a command.  For example:\n\n    if my_name == \"Melodee Beals\":\n        print (my_name)\n       \nYou can also ask more complicated questions.  Maybe you just want to know if the name starts with \"M\".  To do this, you can use the `.startswith()` function as follows\n\n    if my_name.startswith('M'):\n    \nUsing this information, create a for loop that goes through all the words in your list, and only prints those that start with \"t\". Choose whether you want the results ot be on one line or separate ones."
    },
    {
      "metadata": {
        "trusted": true
      },
      "cell_type": "code",
      "source": "",
      "execution_count": null,
      "outputs": []
    },
    {
      "metadata": {},
      "cell_type": "markdown",
      "source": "You can make this a little more pleasant to look at by adding the correct punctuation&mdash;its a little complicated to do this manually but it will teach you a lot!\n\n+ Create a new empty list to hold your selection of \"t\" words, such as `newlist`\n+ Create a for loop that goes through your longer word list\n  + and if the word starts with a 't'\n      + append it to your new sublist using the command `newlist.append(word)`\n+ print your new list using the `join()` function, with a joiner of ', ' and an end parameter of \".\""
    },
    {
      "metadata": {
        "trusted": true
      },
      "cell_type": "code",
      "source": "",
      "execution_count": null,
      "outputs": []
    },
    {
      "metadata": {},
      "cell_type": "markdown",
      "source": "How did you do?  [Need a little help](https://gist.github.com/mhbeals/b434f845decc5a1b452542a86dcdaa65)? \n\n### While loops\n\nSometimes you don't want to go through an entire container, or you want to have more precision.  For this, you can use while loops&mdash;while something is true, do something.\n\nThere are many ways to do this, but we'll start with the simplest, a counter.\n\n    i = 0\n    while i < 10:\n        print(i)\n        i = i + 1\n\nThis wil go through all the numbers, 0 through 9, and print each in turn. After it prints the number, it will increase `i` by one.  When it gets to ten, the condition `i < 10` will no longer be true, so it will stop.  Give it a try below, but instead of printing i, be creative.  Maybe add 'i' to a running total or print your name `i` times?"
    },
    {
      "metadata": {
        "trusted": false
      },
      "cell_type": "code",
      "source": "",
      "execution_count": null,
      "outputs": []
    },
    {
      "metadata": {},
      "cell_type": "markdown",
      "source": "## Concordance\n\nFor the last part of today's workshop, we are going to create our own, very basic concordance programme, using everything we've learned.\n\nTo write you programme you'll need to remember how to \n+ make lists\n+ make a while loop\n+ use and if statement\n+ use .startswith (to identify specific words)\n+ use index numbers (to extract a specific word from your list)\n+ append new items to a list\n+ print a list\n\nMake a programme that \n+ goes through your list of words looking for the word `to`\n+ extracts that word and the word before and after it\n+ creates a new string of that three-word phrase\n+ adds that string to a sub-list of words\n+ prints your list of new strings\n\nThe list above is a big hint! \n"
    },
    {
      "metadata": {
        "trusted": true
      },
      "cell_type": "code",
      "source": "",
      "execution_count": null,
      "outputs": []
    },
    {
      "metadata": {},
      "cell_type": "markdown",
      "source": "Really try, but if you get stuck, [here is my solution](https://gist.github.com/mhbeals/b434f845decc5a1b452542a86dcdaa65)"
    }
  ],
  "metadata": {
    "kernelspec": {
      "name": "python3",
      "display_name": "Python 3",
      "language": "python"
    },
    "language_info": {
      "mimetype": "text/x-python",
      "nbconvert_exporter": "python",
      "name": "python",
      "pygments_lexer": "ipython3",
      "version": "3.5.4",
      "file_extension": ".py",
      "codemirror_mode": {
        "version": 3,
        "name": "ipython"
      }
    }
  },
  "nbformat": 4,
  "nbformat_minor": 2
}