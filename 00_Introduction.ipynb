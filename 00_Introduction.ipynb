{
  "cells": [
    {
      "metadata": {
        "collapsed": true
      },
      "cell_type": "markdown",
      "source": "# Welcome \n\nWelcome to *Programming for the Humanities and Social Sciences*\n\nToday we will be discussing the basics of programming and what you hope to achieve during our workshops.\n\nEach workshop will take place on Tuesday, from 1700-1800 in Herbert Manzoni, K105.\n\nFirst, let us introduce ourselves! Click on the grey box below this one and press **RUN** at the top of your screen.\n\n## The Jupyter Notebook\n\nThis is a Jupyter Notebook. It allows you to practice and prototype your code in a cloud environment (rather than directly on your computer) and to document your work through text boxes above and below each section of code.\n\nThe grey boxes below are all Python code boxes. If you type your code within them, you can run each one in turn. It is important to remember that although this is one big notebook, you must run each box separately (and in order) for the lesson to make sense.\n\nIf at any point the In [1] next to your grey box becomes stuck as In [*], hit the refresh (circular arrow) button at the top of the screen and begin again.\n\nSo, let us introduce ourselves and practice using the notebook! Click on the grey box below this one and then press the Run button at the top of your screen. When the questions appear, answer each one in turn."
    },
    {
      "metadata": {
        "trusted": true
      },
      "cell_type": "code",
      "source": "name = input('What is your name? ')\ndiscipline = input('What discipline do you work in? ')\ndepartment = input('Which department do you belong to? ')\nrank = input('Are you a researcher, postgraduate or undegraduate student? ')\n\nprint (\"\\nHello, \" + name + \"!\\n\"\n       + \"How is your reserch in \" + discipline \n       + \" going over in the \" + department + \" department?\\n\"\n       + \"It's great to have so many \" + rank + \"s here with us today!\")",
      "execution_count": null,
      "outputs": []
    },
    {
      "metadata": {},
      "cell_type": "markdown",
      "source": "Wasn't that fun?  Now let's start with variable types!\n\n## Variables\n\nThe four answers you gave me earlier are known as strings or string literals. In Python, these are always enclosed in quotations marks (either ' ' or \" \"). They can include any character—a letter, a number or a symbol!\nThere are many other types of variables you can use. The most common are:\n\n+ str (strings of letters, numbers and other characters)\n+ bool (true or false, usually written as 0 and 1)\n+ int (signed integers, such as 1 and -1)\n+ long (long integers, for really, really big numbers!)\n+ float (floating point real values, such as 3.14)\n+ complex (complex numbers)\n\nNormally, Python will guess which type of variable you are creating based on the contents. If you wanted to create a string variable called name with the value \"John\", you could just type\n\n`name = \"John\"`\n\nFor numbers, you should not use quotation marks. For example\n\n`myint = 1\nmybool = 0 \nmyfloat = 3.14`\n\nWhatever you name your variables, make sure there are no spaces of special characters. If you want you can use _ as a space, as above.\n\nLet's try a few now! In the box below, create 3 variables—a string, a bool and an integer—each on a separate line within the box. When you are done, run the code by hitting the run button or (even easier) hitting cntl+enter on your keyboard. This will store your variables in memory.\n\n*Note:* a bool can be either true or false or 1 or 0"
    },
    {
      "metadata": {
        "trusted": true
      },
      "cell_type": "code",
      "source": "",
      "execution_count": null,
      "outputs": []
    },
    {
      "metadata": {},
      "cell_type": "markdown",
      "source": "How did you do? You don't know? Well, let's ask the console to display what you wrote. In the box below, tell Python to display one of your variable by using the print command. \n\n`print (whatever_you_called_your_variable)`\n\nand then hitting run. Notice there is no ="
    },
    {
      "metadata": {
        "trusted": true
      },
      "cell_type": "code",
      "source": "",
      "execution_count": null,
      "outputs": []
    },
    {
      "metadata": {},
      "cell_type": "markdown",
      "source": "The next thing we are going to learn about are lists.  \n\n## Lists\n\nLists are *containers* that hold several variables together.  The variables can all be the same type, or can be mixed.  \n\nTo make a list, use the format\n\n`mylist = [variableName,variableName,variableName]`\n\nNotice, I used square brackets, rather than normal or curly ones.\n\nWhy don't you try making a list of your three new variables below?"
    },
    {
      "metadata": {
        "trusted": true
      },
      "cell_type": "code",
      "source": "",
      "execution_count": null,
      "outputs": []
    },
    {
      "metadata": {},
      "cell_type": "markdown",
      "source": "Did you try printing them to the console?  Go ahead!"
    },
    {
      "metadata": {
        "trusted": true
      },
      "cell_type": "code",
      "source": "",
      "execution_count": null,
      "outputs": []
    },
    {
      "metadata": {},
      "cell_type": "markdown",
      "source": "Now that we have some data, what can we do with it?\n\n## Basic Operations \n\nOnce you have stored data in your variables, you can run operations on it to transform it into different data. This is true of both numeric and alphabetic data!\n\n### Numerical Operations\n\nTime for some good old-fashioned arithmetic. Remember that integer variable you created? Let's do some magic on that.\n\nIn the box below, on the first line\n\n+ create a new variable and assign it (set it equal to) your original integer variable `+ 2`\n\nOn the second line\n\n+ print your new integer variable\n"
    },
    {
      "metadata": {
        "trusted": true
      },
      "cell_type": "code",
      "source": "",
      "execution_count": null,
      "outputs": []
    },
    {
      "metadata": {},
      "cell_type": "markdown",
      "source": "Bravo! You can do any basic operation on a integer using the `+`, `-`, `*`, and `/` operators. \n\nYou can also find the remainder of a quotient using && and raise a number to a specific power using **\n\n**For example:**\n+ 20%%3 will give you 2, because the 20 divided by 3 is 18, remainder 2.\n+ 20**3 will give you 8000, because 20 to the power of 3 is 8000.\n\nYou don't even need to assign the value to a variable! You can use the Jupyter notebook just like a calculator by entering the operation and running the cell.  Try a few below."
    },
    {
      "metadata": {
        "trusted": true
      },
      "cell_type": "code",
      "source": "",
      "execution_count": null,
      "outputs": []
    },
    {
      "metadata": {},
      "cell_type": "markdown",
      "source": "### String Operations\n\nYou can also use operators on strings, though not in exactly the same way.  Try creating a new string variable that adds to string variables together below, then printing it to the console."
    },
    {
      "metadata": {
        "trusted": true
      },
      "cell_type": "code",
      "source": "",
      "execution_count": null,
      "outputs": []
    },
    {
      "metadata": {},
      "cell_type": "markdown",
      "source": "What happened?  Did you end up with two words smooshed together?  That's okay.  Try again, and this time add `+ \" \" +` between them. What happens if you try to subtract one from the other?  Try below:"
    },
    {
      "metadata": {
        "trusted": true
      },
      "cell_type": "code",
      "source": "",
      "execution_count": null,
      "outputs": []
    },
    {
      "metadata": {},
      "cell_type": "markdown",
      "source": "Can't fool you. You can't subtract strings, but you can run a number of different functions on them.  We'll talk more about these later."
    },
    {
      "metadata": {},
      "cell_type": "markdown",
      "source": "## Wrap Up\n\nThat's all for today!  Next week we'll start undertaking more detailed operations to manipulate and process our data, including loading and save datasets. For now, be proud of yourself! You've learned:\n\n+ About six different types of variables\n+ How to assign and print stored variables\n+ How to store data in lists\n+ How to perform basic arithmetic functions on variables\n+ How to concatenate strings together\n\n# Well Done"
    }
  ],
  "metadata": {
    "kernelspec": {
      "name": "python36",
      "display_name": "Python 3.6",
      "language": "python"
    },
    "language_info": {
      "mimetype": "text/x-python",
      "nbconvert_exporter": "python",
      "name": "python",
      "pygments_lexer": "ipython3",
      "version": "3.6.6",
      "file_extension": ".py",
      "codemirror_mode": {
        "version": 3,
        "name": "ipython"
      }
    }
  },
  "nbformat": 4,
  "nbformat_minor": 2
}